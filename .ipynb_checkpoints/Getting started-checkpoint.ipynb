{
 "cells": [
  {
   "cell_type": "markdown",
   "metadata": {},
   "source": [
    "### 1. First step, installation\n",
    "\n",
    "Make sure you are connected to the internet during the first step. The pip install\n",
    "line will automatically retrieve all the information for the Coolprop wrapper and\n",
    "install it onto your system."
   ]
  },
  {
   "cell_type": "code",
   "execution_count": null,
   "metadata": {},
   "outputs": [],
   "source": [
    "!pip install Coolprop"
   ]
  },
  {
   "cell_type": "markdown",
   "metadata": {},
   "source": [
    "### 2. Second step\n",
    "Now that the Coolprop wrapper has been installed, you are ready to start using it!\n",
    "\n",
    "The code in the next cell will import the PropsSI function from Coolprop. This \n",
    "function is used to retrieve property data for pure fluids at specific conditions."
   ]
  },
  {
   "cell_type": "code",
   "execution_count": 1,
   "metadata": {},
   "outputs": [],
   "source": [
    "from CoolProp.CoolProp import PropsSI "
   ]
  },
  {
   "cell_type": "markdown",
   "metadata": {},
   "source": [
    "Before attempting to use the PropsSI function, it is important to know what properties Coolprop can produce, what the units of these properties are and which components are within the library."
   ]
  },
  {
   "cell_type": "markdown",
   "metadata": {},
   "source": [
    "The following link is for a webpage. \n",
    "http://coolprop.sourceforge.net/coolprop/HighLevelAPI.html#parameter-table\n",
    "At the bottom of that page is a table that contains all the properties that Coolprop can calculate as well as all the units. \n",
    "This page also contains some handy examples which can aid in further understanding."
   ]
  },
  {
   "cell_type": "markdown",
   "metadata": {},
   "source": [
    "#### Some examples\n",
    "At what pressure will water be a saturated liquid at 80 degrees celcius?"
   ]
  },
  {
   "cell_type": "code",
   "execution_count": 2,
   "metadata": {},
   "outputs": [
    {
     "name": "stdout",
     "output_type": "stream",
     "text": [
      "Pressure of saturated water at 80 degrees celcius, P =  47414.4740331709  Pa\n"
     ]
    }
   ],
   "source": [
    "P = PropsSI('P', 'T', 80+273.15, 'Q', 0, 'water') # Pa Pressure in Coolprop is in Pascals, Temperature in Kelvin  \n",
    "#('Property you want', 'First known property', Value of first property, 'Second known property', Value of second, 'Component')\n",
    "print ('Pressure of saturated water at 80 degrees celcius, P = ', P, ' Pa')"
   ]
  },
  {
   "cell_type": "markdown",
   "metadata": {},
   "source": [
    "What is the latent heat of water at 1 atm?"
   ]
  },
  {
   "cell_type": "code",
   "execution_count": 3,
   "metadata": {},
   "outputs": [
    {
     "name": "stdout",
     "output_type": "stream",
     "text": [
      "Latent heat of water at 1 atm, lambda =  2256471.5924066794  J/kg\n"
     ]
    }
   ],
   "source": [
    "# 1 atm = 101.325 kPa = 101325 pa\n",
    "# Determine the enthalpies at saturated vapor and saturated liquid and calculate the difference\n",
    "\n",
    "H_v = PropsSI('H', 'P', 101325, 'Q', 1, 'water') # J/kg\n",
    "H_l = PropsSI('H', 'P', 101325, 'Q', 0, 'water') # J/kg\n",
    "\n",
    "latent_heat = H_v - H_l # J/kg\n",
    "print ('Latent heat of water at 1 atm, lambda = ', latent_heat, ' J/kg')"
   ]
  },
  {
   "cell_type": "markdown",
   "metadata": {},
   "source": [
    "Now calculate the thermal efficiency for the organic rankine cycle."
   ]
  },
  {
   "cell_type": "markdown",
   "metadata": {},
   "source": [
    "<img src=\"ORC1.png\" width=\"500px\">"
   ]
  },
  {
   "cell_type": "markdown",
   "metadata": {},
   "source": [
    "The working fluid in the organic rankine cycle is R236fa. \n",
    "The isentropic efficiency of the turbine and the pump is 80%."
   ]
  },
  {
   "cell_type": "code",
   "execution_count": 4,
   "metadata": {},
   "outputs": [
    {
     "name": "stdout",
     "output_type": "stream",
     "text": [
      "Thermal efficiency, eta =  10.258427899215706  %\n"
     ]
    }
   ],
   "source": [
    "P1 = PropsSI('P', 'T', 45+273.15, 'Q', 0, 'R236FA') #Pa\n",
    "P3 = PropsSI('P', 'T', 120+273.15, 'Q', 1, 'R236FA') #Pa\n",
    "\n",
    "S1 = PropsSI('S', 'T', 45+273.15, 'Q', 0, 'R236FA') #J/kg.K\n",
    "H1 = PropsSI('H', 'T', 45+273.15, 'Q', 0, 'R236FA') #J/kg\n",
    "\n",
    "P2 = P3\n",
    "S2 = S1 #isentropic\n",
    "n_pump = 0.8\n",
    "H2_s = PropsSI('H', 'P', P2, 'S', S1, 'R236FA') #J/kg\n",
    "H2_r = ((H2_s - H1)/n_pump) + H1 #J/kg\n",
    "T2 = PropsSI('T', 'P', P2, 'H', H2_r, 'R236FA') - 273.15 #K\n",
    "\n",
    "H3 = PropsSI('H', 'P', P3, 'Q', 1, 'R236FA') #J/kg\n",
    "S3 = PropsSI('S', 'P', P3, 'H', H3, 'R236FA') #J/kg.K\n",
    "\n",
    "P4 = P1\n",
    "S4 = S3 #isentropic\n",
    "n_turb = 0.8\n",
    "H4_s = PropsSI('H', 'P', P4, 'S', S4, 'R236FA')\n",
    "H4_r = H3 - n_turb*(H3 - H4_s)\n",
    "T4 = PropsSI('T', 'P', P4, 'H', H4_r, 'R236FA')\n",
    "\n",
    "Qin = H3 - H2_r\n",
    "Qout = H4_r - H1\n",
    "\n",
    "n_orc = (1 - (Qout/Qin))*100\n",
    "print ('Thermal efficiency, eta = ', n_orc, ' %')"
   ]
  },
  {
   "cell_type": "markdown",
   "metadata": {},
   "source": [
    "Now plot the thermal efficiency as a function of evaporator temperature. \n",
    "Use a temperature range between 70 and 120 degrees celcius."
   ]
  },
  {
   "cell_type": "code",
   "execution_count": 5,
   "metadata": {},
   "outputs": [],
   "source": [
    "import numpy\n",
    "from matplotlib import pyplot as plt"
   ]
  },
  {
   "cell_type": "code",
   "execution_count": 6,
   "metadata": {},
   "outputs": [
    {
     "data": {
      "text/plain": [
       "<matplotlib.legend.Legend at 0x12d7181b780>"
      ]
     },
     "execution_count": 6,
     "metadata": {},
     "output_type": "execute_result"
    },
    {
     "data": {
      "image/png": "[encoded data removed]",
      "text/plain": [
       "<Figure size 432x288 with 1 Axes>"
      ]
     },
     "metadata": {
      "needs_background": "light"
     },
     "output_type": "display_data"
    }
   ],
   "source": [
    "Evap_T = numpy.linspace(70, 120, 100)\n",
    "n_list = []\n",
    "\n",
    "for i in numpy.arange(len(Evap_T)):\n",
    "    P1 = PropsSI('P', 'T', 45+273.15, 'Q', 0, 'R236FA') #Pa\n",
    "    P3 = PropsSI('P', 'T', Evap_T[i]+273.15, 'Q', 1, 'R236FA') #Pa\n",
    "\n",
    "    S1 = PropsSI('S', 'T', 45+273.15, 'Q', 0, 'R236FA') #J/kg.K\n",
    "    H1 = PropsSI('H', 'T', 45+273.15, 'Q', 0, 'R236FA') #J/kg\n",
    "\n",
    "    P2 = P3\n",
    "    S2 = S1 #isentropic\n",
    "    n_pump = 0.8\n",
    "    H2_s = PropsSI('H', 'P', P2, 'S', S1, 'R236FA') #J/kg\n",
    "    H2_r = ((H2_s - H1)/n_pump) + H1 #J/kg\n",
    "    T2 = PropsSI('T', 'P', P2, 'H', H2_r, 'R236FA') - 273.15 #K\n",
    "\n",
    "    H3 = PropsSI('H', 'P', P3, 'Q', 1, 'R236FA') #J/kg\n",
    "    S3 = PropsSI('S', 'P', P3, 'H', H3, 'R236FA') #J/kg.K\n",
    "\n",
    "    P4 = P1\n",
    "    S4 = S3 #isentropic\n",
    "    n_turb = 0.8\n",
    "    H4_s = PropsSI('H', 'P', P4, 'S', S4, 'R236FA')\n",
    "    H4_r = H3 - n_turb*(H3 - H4_s)\n",
    "    T4 = PropsSI('T', 'P', P4, 'H', H4_r, 'R236FA')\n",
    "\n",
    "    Qin = H3 - H2_r\n",
    "    Qout = H4_r - H1\n",
    "\n",
    "    n_orc = (1 - (Qout/Qin))*100\n",
    "    n_orc\n",
    "    n_list.append(n_orc)\n",
    "\n",
    "plt.plot(Evap_T, n_list)\n",
    "plt.ylabel('Thermal efficiency /%')\n",
    "plt.xlabel('ORC Evaporation temperature/ °C')\n",
    "plt.legend(['R236fa - Coolprop'])"
   ]
  },
  {
   "cell_type": "code",
   "execution_count": null,
   "metadata": {},
   "outputs": [],
   "source": []
  }
 ],
 "metadata": {
  "kernelspec": {
   "display_name": "Python 3",
   "language": "python",
   "name": "python3"
  },
  "language_info": {
   "codemirror_mode": {
    "name": "ipython",
    "version": 3
   },
   "file_extension": ".py",
   "mimetype": "text/x-python",
   "name": "python",
   "nbconvert_exporter": "python",
   "pygments_lexer": "ipython3",
   "version": "3.7.1"
  }
 },
 "nbformat": 4,
 "nbformat_minor": 2
}
